{
 "cells": [
  {
   "cell_type": "code",
   "execution_count": 1,
   "metadata": {},
   "outputs": [],
   "source": [
    "height = 1.797\n",
    "wight =68.1"
   ]
  },
  {
   "cell_type": "code",
   "execution_count": 10,
   "metadata": {},
   "outputs": [
    {
     "name": "stdout",
     "output_type": "stream",
     "text": [
      "1.797\n68.1\n"
     ]
    }
   ],
   "source": [
    "print(height)\n",
    "print(wight)"
   ]
  },
  {
   "cell_type": "code",
   "execution_count": 11,
   "metadata": {},
   "outputs": [
    {
     "name": "stdout",
     "output_type": "stream",
     "text": [
      "21.088755791278917\n"
     ]
    }
   ],
   "source": [
    "# BMI CALCUATION Wight/height**2\n",
    "BMI = wight/height ** 2\n",
    "print(BMI)"
   ]
  },
  {
   "cell_type": "code",
   "execution_count": 1,
   "metadata": {},
   "outputs": [
    {
     "name": "stdout",
     "output_type": "stream",
     "text": [
      "[12, 23, 45, 50]\n"
     ]
    }
   ],
   "source": [
    "#python list \n",
    "\n",
    "value = [12, 23, 45, 50]\n",
    "print(value)"
   ]
  },
  {
   "cell_type": "code",
   "execution_count": null,
   "metadata": {},
   "outputs": [
    {
     "name": "stdout",
     "output_type": "stream",
     "text": [
      "['raghu', 124425, 'rajesh', 45775, 'ajay', 48785, 'dattu', 57878]\n"
     ]
    }
   ],
   "source": [
    "value_names = [\"raghu\", 124425, \"rajesh\", 45775, \"ajay\", 48785, \"dattu\", 57878]\n",
    "print(value_names)"
   ]
  },
  {
   "cell_type": "code",
   "execution_count": 100,
   "metadata": {},
   "outputs": [
    {
     "data": {
      "text/plain": [
       "['rajesh', 45775, 'ajay', 48785]"
      ]
     },
     "execution_count": 100,
     "metadata": {},
     "output_type": "execute_result"
    }
   ],
   "source": [
    "#list slicing\n",
    "value_names[2:6]"
   ]
  },
  {
   "cell_type": "code",
   "execution_count": 101,
   "metadata": {},
   "outputs": [
    {
     "data": {
      "text/plain": [
       "['raghu', 124425]"
      ]
     },
     "execution_count": 101,
     "metadata": {},
     "output_type": "execute_result"
    }
   ],
   "source": [
    "value_names[:2]"
   ]
  },
  {
   "cell_type": "code",
   "execution_count": 102,
   "metadata": {},
   "outputs": [
    {
     "data": {
      "text/plain": [
       "['raghu',\n",
       " 124425,\n",
       " 'rajesh',\n",
       " 45775,\n",
       " 'ajay',\n",
       " 48785,\n",
       " 'dattu',\n",
       " 57878,\n",
       " 'shiva',\n",
       " 45788]"
      ]
     },
     "execution_count": 102,
     "metadata": {},
     "output_type": "execute_result"
    }
   ],
   "source": [
    "# adding element in list\n",
    "value_names + [\"shiva\", 45788]\n"
   ]
  },
  {
   "cell_type": "code",
   "execution_count": 103,
   "metadata": {},
   "outputs": [
    {
     "name": "stdout",
     "output_type": "stream",
     "text": [
      "['raghu', 124425, 'rajesh', 45775, 'ajay', 48785, 'dattu']\n"
     ]
    }
   ],
   "source": [
    "#deleting element form list\n",
    "del(value_names[-1])\n",
    "print(value_names)"
   ]
  },
  {
   "cell_type": "code",
   "execution_count": 104,
   "metadata": {},
   "outputs": [
    {
     "name": "stdout",
     "output_type": "stream",
     "text": [
      "[['raghu', 25454], ['rahul', 587878]]\n"
     ]
    },
    {
     "data": {
      "text/plain": [
       "list"
      ]
     },
     "execution_count": 104,
     "metadata": {},
     "output_type": "execute_result"
    }
   ],
   "source": [
    "# list inside a list\n",
    "value_list = [[\"raghu\", 25454],[\"rahul\", 587878]]\n",
    "print(value_list)\n",
    "type(value_list)"
   ]
  },
  {
   "cell_type": "code",
   "execution_count": 105,
   "metadata": {},
   "outputs": [
    {
     "data": {
      "text/plain": [
       "['rahul', 587878]"
      ]
     },
     "execution_count": 105,
     "metadata": {},
     "output_type": "execute_result"
    }
   ],
   "source": [
    "value_list[-1]"
   ]
  },
  {
   "cell_type": "code",
   "execution_count": 106,
   "metadata": {},
   "outputs": [
    {
     "data": {
      "text/plain": [
       "['rahul', 587878]"
      ]
     },
     "execution_count": 106,
     "metadata": {},
     "output_type": "execute_result"
    }
   ],
   "source": [
    "max(value_list)"
   ]
  },
  {
   "cell_type": "code",
   "execution_count": 107,
   "metadata": {},
   "outputs": [],
   "source": [
    "# import of numpy for array\n",
    "\n",
    "import numpy as np"
   ]
  },
  {
   "cell_type": "code",
   "execution_count": 108,
   "metadata": {},
   "outputs": [],
   "source": [
    "height1 = [1.754, 1.458, 1.245, 1.545, 1.245]"
   ]
  },
  {
   "cell_type": "code",
   "execution_count": 109,
   "metadata": {},
   "outputs": [],
   "source": [
    "wight1 = [70, 59, 60, 72, 74]"
   ]
  },
  {
   "cell_type": "code",
   "execution_count": 110,
   "metadata": {},
   "outputs": [
    {
     "data": {
      "text/plain": [
       "numpy.ndarray"
      ]
     },
     "execution_count": 110,
     "metadata": {},
     "output_type": "execute_result"
    }
   ],
   "source": [
    "pheight = np.array(height1)\n",
    "pwight = np.array(wight1)\n",
    "type(pheight)\n",
    "type(pwight)"
   ]
  },
  {
   "cell_type": "raw",
   "metadata": {},
   "source": [
    "bmi1 = pwight/pheight**2\n",
    "print(bmi1)"
   ]
  },
  {
   "cell_type": "code",
   "execution_count": 111,
   "metadata": {},
   "outputs": [
    {
     "name": "stdout",
     "output_type": "stream",
     "text": [
      "[22.75301022 27.75472724 38.70905308 30.16306909 47.74116547]\n"
     ]
    },
    {
     "data": {
      "text/plain": [
       "numpy.ndarray"
      ]
     },
     "execution_count": 111,
     "metadata": {},
     "output_type": "execute_result"
    }
   ],
   "source": [
    "bmi1 = pwight/pheight**2\n",
    "print(bmi1)\n",
    "type(bmi1)"
   ]
  },
  {
   "cell_type": "code",
   "execution_count": 122,
   "metadata": {},
   "outputs": [
    {
     "data": {
      "text/plain": [
       "array([47.74116547])"
      ]
     },
     "execution_count": 122,
     "metadata": {},
     "output_type": "execute_result"
    }
   ],
   "source": [
    "#condition check on bmi\n",
    "\n",
    "bmi1[bmi1 > 40]"
   ]
  },
  {
   "cell_type": "code",
   "execution_count": 125,
   "metadata": {},
   "outputs": [
    {
     "name": "stdout",
     "output_type": "stream",
     "text": [
      "[1, 2, 3, 4, 5, 1, 2, 3, 4, 5]\n",
      "[ 2  4  6  8 10]\n"
     ]
    },
    {
     "data": {
      "text/plain": [
       "array([ 8, 10])"
      ]
     },
     "execution_count": 125,
     "metadata": {},
     "output_type": "execute_result"
    }
   ],
   "source": [
    "#python list\n",
    "\n",
    "list2 = [1, 2, 3, 4, 5]\n",
    "\n",
    "#array list\n",
    "arraylist = np.array([1, 2, 3, 4, 5])\n",
    "\n",
    "print(list2 + list2)\n",
    "\n",
    "con = arraylist + arraylist\n",
    "print(con)\n",
    "\n",
    "con[con > 7]"
   ]
  },
  {
   "cell_type": "code",
   "execution_count": 126,
   "metadata": {},
   "outputs": [
    {
     "name": "stdout",
     "output_type": "stream",
     "text": [
      "[[ 1.75  1.45  1.59  1.78  1.66]\n",
      " [58.   53.   72.   66.   65.  ]]\n"
     ]
    }
   ],
   "source": [
    "# 2D array NumPy array\n",
    "\n",
    "np_2d = np.array([[1.75, 1.45, 1.59, 1.78, 1.66], [58, 53, 72, 66, 65]])\n",
    "print(np_2d)"
   ]
  },
  {
   "cell_type": "code",
   "execution_count": 131,
   "metadata": {},
   "outputs": [
    {
     "data": {
      "text/plain": [
       "58.0"
      ]
     },
     "execution_count": 131,
     "metadata": {},
     "output_type": "execute_result"
    }
   ],
   "source": [
    "np_2d[1][0]"
   ]
  },
  {
   "cell_type": "code",
   "execution_count": 135,
   "metadata": {},
   "outputs": [
    {
     "data": {
      "text/plain": [
       "array([ 1.75,  1.45,  1.59,  1.78,  1.66, 58.  , 53.  , 72.  , 66.  ,\n",
       "       65.  ])"
      ]
     },
     "execution_count": 135,
     "metadata": {},
     "output_type": "execute_result"
    }
   ],
   "source": [
    "np_2d[np_2d > 1]"
   ]
  },
  {
   "cell_type": "code",
   "execution_count": 145,
   "metadata": {},
   "outputs": [
    {
     "name": "stdout",
     "output_type": "stream",
     "text": [
      "8.23\n",
      "1.78\n"
     ]
    }
   ],
   "source": [
    "print(sum(np_2d[0]))\n",
    "print(max(np_2d[0]))\n"
   ]
  },
  {
   "cell_type": "code",
   "execution_count": null,
   "metadata": {},
   "outputs": [],
   "source": []
  }
 ],
 "metadata": {
  "kernelspec": {
   "display_name": "Python 3",
   "language": "python",
   "name": "python3"
  },
  "language_info": {
   "codemirror_mode": {
    "name": "ipython",
    "version": 3
   },
   "file_extension": ".py",
   "mimetype": "text/x-python",
   "name": "python",
   "nbconvert_exporter": "python",
   "pygments_lexer": "ipython3",
   "version": "3.7.3"
  }
 },
 "nbformat": 4,
 "nbformat_minor": 2
}
